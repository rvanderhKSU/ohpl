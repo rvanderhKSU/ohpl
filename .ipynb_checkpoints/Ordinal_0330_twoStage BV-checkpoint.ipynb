{
 "cells": [
  {
   "cell_type": "code",
   "execution_count": 25,
   "metadata": {},
   "outputs": [
    {
     "name": "stdout",
     "output_type": "stream",
     "text": [
      "[[2 0 1]\n",
      " [0 1 0]\n",
      " [1 1 2]]\n"
     ]
    },
    {
     "data": {
      "text/plain": [
       "(0.3548387096774194, 0.3076923076923077)"
      ]
     },
     "execution_count": 25,
     "metadata": {},
     "output_type": "execute_result"
    }
   ],
   "source": [
    "from sklearn.metrics import cohen_kappa_score, confusion_matrix\n",
    "y_true = [2, 0, 2, 2, 0, 0, 1, 2]\n",
    "y_pred = [1, 0, 2, 2, 0, 2, 1, 0]\n",
    "\n",
    "print( confusion_matrix(y_true, y_pred))\n",
    "cohen_kappa_score(y_true, y_pred, weights='linear'), cohen_kappa_score(y_true, y_pred, weights='quadratic'), \n"
   ]
  },
  {
   "cell_type": "code",
   "execution_count": 4,
   "metadata": {},
   "outputs": [
    {
     "name": "stderr",
     "output_type": "stream",
     "text": [
      "Using TensorFlow backend.\n"
     ]
    }
   ],
   "source": [
    "import json\n",
    "import math\n",
    "import os\n",
    "\n",
    "import cv2\n",
    "from PIL import Image\n",
    "import numpy as np\n",
    "from keras import layers\n",
    "from keras.applications import DenseNet121\n",
    "from keras.callbacks import Callback, ModelCheckpoint\n",
    "from keras.preprocessing.image import ImageDataGenerator\n",
    "from keras.models import Sequential\n",
    "from keras.optimizers import Adam\n",
    "import matplotlib.pyplot as plt\n",
    "import pandas as pd\n",
    "from sklearn.model_selection import train_test_split\n",
    "from sklearn.metrics import cohen_kappa_score, accuracy_score\n",
    "import scipy\n",
    "import tensorflow as tf\n",
    "from tqdm import tqdm\n",
    "\n",
    "%matplotlib inline"
   ]
  },
  {
   "cell_type": "code",
   "execution_count": 5,
   "metadata": {},
   "outputs": [],
   "source": [
    "import os\n",
    "os.environ[\"CUDA_VISIBLE_DEVICES\"]=\"1\""
   ]
  },
  {
   "cell_type": "markdown",
   "metadata": {},
   "source": [
    "# Edited Point Loss"
   ]
  },
  {
   "cell_type": "code",
   "execution_count": 6,
   "metadata": {},
   "outputs": [],
   "source": [
    "def hp_ordering_loss(y_true, y_pred):\n",
    "\n",
    "    \"\"\" Evaluate the ordinal loss of the predictions y_pred.\n",
    "        \n",
    "        Parameters\n",
    "        ----------\n",
    "        y_true : array-like\n",
    "        y_pred : array-like\n",
    "        \n",
    "        Returns\n",
    "        -------\n",
    "        loss: float\n",
    "            A non-negative floating point value (best value is 0.0)\n",
    "            \n",
    "        Usage\n",
    "        -------\n",
    "        loss = hp_ordering_loss([4,1,2,0,4,2,1], [6.0,3.1,5.2,1.0,4.0,2.2,3.7])\n",
    "        print('Loss: ', loss.numpy())  # Loss: 2.8\n",
    "        \n",
    "        Usage with the `compile` API:\n",
    "       \n",
    "        ```python\n",
    "        model = tf.keras.Model(inputs, outputs)\n",
    "        model.compile(loss=hp_ordering_loss, optimizer='adam', loss=hp_ordering_loss)\n",
    "        ```\n",
    "        \n",
    "    \"\"\"\n",
    "\n",
    "    y_pred = tf.convert_to_tensor(y_pred)\n",
    "    y_true = tf.dtypes.cast(y_true, y_pred.dtype)\n",
    "    y_pred = tf.reshape(tf.transpose(y_pred),[-1,1])\n",
    "\n",
    "    # one hot vector for y_true\n",
    "    ords, idx = tf.unique(tf.reshape(y_true, [-1])) \n",
    "    num = tf.shape(ords)[0]\n",
    "    y_true_1hot = tf.one_hot(idx, num)\n",
    "\n",
    "    # mean distance for each class\n",
    "    yO = tf.transpose(y_pred) @ y_true_1hot\n",
    "    yc = tf.reduce_sum(y_true_1hot,0)\n",
    "    class_mean = tf.divide(yO,yc)  \n",
    "\n",
    "    # min. distance\n",
    "    ords = tf.dtypes.cast(ords, tf.float32)\n",
    "    ords0 = tf.reshape(ords, [-1,1])\n",
    "    ords1 = tf.reshape(ords, [1,-1])\n",
    "    \n",
    "    min_distance = tf.subtract(ords0, ords1)\n",
    "    # apply ReLU\n",
    "    min_distance = tf.nn.relu (min_distance)\n",
    "    \n",
    "    # keeps min. distance\n",
    "    keep = tf.minimum(min_distance,1)\n",
    "\n",
    "    # distance to centroid     \n",
    "    class_mean0 = tf.reshape(class_mean, [-1,1])\n",
    "    class_mean1 = tf.reshape(class_mean, [1,-1])\n",
    "    class_mean = tf.subtract(class_mean0, class_mean1)  \n",
    "    # apply ReLU    \n",
    "    class_mean = tf.nn.relu(class_mean)\n",
    "    centroid_distance = tf.multiply(keep, class_mean)\n",
    "    \n",
    "    hp_ordering_loss = tf.subtract(min_distance,centroid_distance)\n",
    "    # apply ReLU\n",
    "    hp_ordering_loss = tf.nn.relu(hp_ordering_loss)\n",
    "        \n",
    "    return tf.reduce_sum(hp_ordering_loss)\n",
    "\n",
    "\n",
    "def hp_point_loss(y_true, y_pred, L, U, margin=0.1):\n",
    "    \"\"\" Evaluate the point loss of the predictions y_pred.\n",
    "\n",
    "        Parameters\n",
    "        ----------\n",
    "        y_true : array-like\n",
    "        y_pred : array-like\n",
    "        minlabel : integer\n",
    "        maxlabel : integer\n",
    "        margin : float\n",
    "\n",
    "        Returns\n",
    "        -------\n",
    "        loss: float\n",
    "        A non-negative floating point value (best value is 0.0)\n",
    "        \n",
    "        Usage\n",
    "        -------\n",
    "        loss = hp_point_loss([4,1,2,0,4,2,1], [6.0,3.1,5.2,1.0,4.0,2.2,3.7],0,4,.3)\n",
    "        print('Loss: ', loss.numpy())  # Loss: 3.1\n",
    "        \n",
    "        \n",
    "        Usage with the `compile` API:\n",
    "        \n",
    "        ```python\n",
    "        \n",
    "        Example Keras wrapper for hp_point_loss:\n",
    "        \n",
    "        def get_ohpl_wrapper (min_label, max_label, margin):\n",
    "            def ohpl(y_true, y_pred):\n",
    "                return hp_point_loss(y_true, y_pred, min_label, max_label, margin)\n",
    "            return ohpl\n",
    "\n",
    "        point_loss = get_ohpl_wrapper(0,4,0.01)\n",
    "        \n",
    "        model = tf.keras.Model(inputs, outputs)\n",
    "        model.compile(loss=ohpl_point_loss, optimizer='adam', loss=ohpl_point_loss)\n",
    "        ```\n",
    "        \n",
    "    \"\"\"\n",
    "    \n",
    "    upper = tf.constant(U, dtype=tf.float32)\n",
    "    lower = tf.constant(L, dtype=tf.float32)\n",
    "    uthreshold = tf.matmul(y_true, upper, name='upper_MM')\n",
    "    lthreshold = tf.matmul(y_true, lower, name='lower_MM')\n",
    "\n",
    "    uerror = tf.nn.relu(tf.subtract(y_pred, uthreshold))\n",
    "    lerror = tf.nn.relu(tf.subtract(lthreshold, y_pred))\n",
    "    \n",
    "    hp_point_loss = tf.add(upper_loss, lower_loss)\n",
    "    \n",
    "    return tf.reduce_sum(hp_point_loss)\n",
    "    \n",
    "    \"\"\"    \n",
    "        References\n",
    "        ----------\n",
    "        .. [1] Vanderheyden, Bob and Ying Xie. Ordinal Hyperplane Loss. (2018). \n",
    "           2018 IEEE International Conference on Big Data (Big Data), \n",
    "           2018 IEEE International Conference On, 2337. https://doi-org.proxy.kennesaw.edu/10.1109/BigData.2018.8622079\n",
    "    \"\"\""
   ]
  },
  {
   "cell_type": "code",
   "execution_count": 7,
   "metadata": {},
   "outputs": [],
   "source": [
    "np.random.seed(2019)\n",
    "tf.set_random_seed(2019)"
   ]
  },
  {
   "cell_type": "code",
   "execution_count": 8,
   "metadata": {},
   "outputs": [
    {
     "name": "stdout",
     "output_type": "stream",
     "text": [
      "(12603, 2)\n",
      "(3153, 2)\n"
     ]
    },
    {
     "data": {
      "text/html": [
       "<div>\n",
       "<style scoped>\n",
       "    .dataframe tbody tr th:only-of-type {\n",
       "        vertical-align: middle;\n",
       "    }\n",
       "\n",
       "    .dataframe tbody tr th {\n",
       "        vertical-align: top;\n",
       "    }\n",
       "\n",
       "    .dataframe thead th {\n",
       "        text-align: right;\n",
       "    }\n",
       "</style>\n",
       "<table border=\"1\" class=\"dataframe\">\n",
       "  <thead>\n",
       "    <tr style=\"text-align: right;\">\n",
       "      <th></th>\n",
       "      <th>data</th>\n",
       "      <th>label</th>\n",
       "    </tr>\n",
       "  </thead>\n",
       "  <tbody>\n",
       "    <tr>\n",
       "      <th>0</th>\n",
       "      <td>0_22440</td>\n",
       "      <td>0</td>\n",
       "    </tr>\n",
       "    <tr>\n",
       "      <th>1</th>\n",
       "      <td>0_6509</td>\n",
       "      <td>0</td>\n",
       "    </tr>\n",
       "    <tr>\n",
       "      <th>2</th>\n",
       "      <td>0_15699</td>\n",
       "      <td>0</td>\n",
       "    </tr>\n",
       "    <tr>\n",
       "      <th>3</th>\n",
       "      <td>0_32913</td>\n",
       "      <td>0</td>\n",
       "    </tr>\n",
       "    <tr>\n",
       "      <th>4</th>\n",
       "      <td>0_18551</td>\n",
       "      <td>0</td>\n",
       "    </tr>\n",
       "  </tbody>\n",
       "</table>\n",
       "</div>"
      ],
      "text/plain": [
       "      data  label\n",
       "0  0_22440      0\n",
       "1   0_6509      0\n",
       "2  0_15699      0\n",
       "3  0_32913      0\n",
       "4  0_18551      0"
      ]
     },
     "execution_count": 8,
     "metadata": {},
     "output_type": "execute_result"
    }
   ],
   "source": [
    "train_df = pd.read_csv('./training.csv')\n",
    "test_df = pd.read_csv('./testing.csv')\n",
    "print(train_df.shape)\n",
    "print(test_df.shape)\n",
    "train_df.head()"
   ]
  },
  {
   "cell_type": "code",
   "execution_count": 9,
   "metadata": {},
   "outputs": [
    {
     "data": {
      "text/plain": [
       "0    5160\n",
       "2    4230\n",
       "1    1950\n",
       "3     697\n",
       "4     566\n",
       "Name: label, dtype: int64"
      ]
     },
     "execution_count": 9,
     "metadata": {},
     "output_type": "execute_result"
    },
    {
     "data": {
      "image/png": "[encoded data removed]",
      "text/plain": [
       "<Figure size 432x288 with 1 Axes>"
      ]
     },
     "metadata": {
      "needs_background": "light"
     },
     "output_type": "display_data"
    }
   ],
   "source": [
    "train_df['label'].hist()\n",
    "train_df['label'].value_counts()"
   ]
  },
  {
   "cell_type": "code",
   "execution_count": 10,
   "metadata": {},
   "outputs": [
    {
     "ename": "SameFileError",
     "evalue": "'./training/0_34.jpeg' and './training/0_34.jpeg' are the same file",
     "output_type": "error",
     "traceback": [
      "\u001b[1;31m---------------------------------------------------------------------------\u001b[0m",
      "\u001b[1;31mSameFileError\u001b[0m                             Traceback (most recent call last)",
      "\u001b[1;32m<ipython-input-10-1f34d1007019>\u001b[0m in \u001b[0;36m<module>\u001b[1;34m\u001b[0m\n\u001b[0;32m     11\u001b[0m \u001b[1;33m\u001b[0m\u001b[0m\n\u001b[0;32m     12\u001b[0m \u001b[1;32mif\u001b[0m \u001b[0m__name__\u001b[0m \u001b[1;33m==\u001b[0m \u001b[1;34m\"__main__\"\u001b[0m\u001b[1;33m:\u001b[0m\u001b[1;33m\u001b[0m\u001b[1;33m\u001b[0m\u001b[0m\n\u001b[1;32m---> 13\u001b[1;33m     \u001b[0mcpfile\u001b[0m\u001b[1;33m(\u001b[0m\u001b[1;34m'training'\u001b[0m\u001b[1;33m)\u001b[0m\u001b[1;33m\u001b[0m\u001b[1;33m\u001b[0m\u001b[0m\n\u001b[0m\u001b[0;32m     14\u001b[0m     \u001b[0mcpfile\u001b[0m\u001b[1;33m(\u001b[0m\u001b[1;34m'testing'\u001b[0m\u001b[1;33m)\u001b[0m\u001b[1;33m\u001b[0m\u001b[1;33m\u001b[0m\u001b[0m\n",
      "\u001b[1;32m<ipython-input-10-1f34d1007019>\u001b[0m in \u001b[0;36mcpfile\u001b[1;34m(dirname)\u001b[0m\n\u001b[0;32m      8\u001b[0m             \u001b[1;32mif\u001b[0m \u001b[0mfile\u001b[0m\u001b[1;33m[\u001b[0m\u001b[1;33m-\u001b[0m\u001b[1;36m5\u001b[0m\u001b[1;33m:\u001b[0m\u001b[1;33m]\u001b[0m \u001b[1;33m==\u001b[0m \u001b[1;34m'.jpeg'\u001b[0m\u001b[1;33m:\u001b[0m\u001b[1;33m\u001b[0m\u001b[1;33m\u001b[0m\u001b[0m\n\u001b[0;32m      9\u001b[0m                 \u001b[0mpath_file\u001b[0m \u001b[1;33m=\u001b[0m \u001b[0mos\u001b[0m\u001b[1;33m.\u001b[0m\u001b[0mpath\u001b[0m\u001b[1;33m.\u001b[0m\u001b[0mjoin\u001b[0m\u001b[1;33m(\u001b[0m\u001b[0mroot\u001b[0m\u001b[1;33m,\u001b[0m\u001b[0mfile\u001b[0m\u001b[1;33m)\u001b[0m\u001b[1;33m\u001b[0m\u001b[1;33m\u001b[0m\u001b[0m\n\u001b[1;32m---> 10\u001b[1;33m                 \u001b[0mshutil\u001b[0m\u001b[1;33m.\u001b[0m\u001b[0mcopy2\u001b[0m\u001b[1;33m(\u001b[0m\u001b[0mpath_file\u001b[0m\u001b[1;33m,\u001b[0m\u001b[0mpath\u001b[0m\u001b[1;33m)\u001b[0m \u001b[1;31m# change you destination dir\u001b[0m\u001b[1;33m\u001b[0m\u001b[1;33m\u001b[0m\u001b[0m\n\u001b[0m\u001b[0;32m     11\u001b[0m \u001b[1;33m\u001b[0m\u001b[0m\n\u001b[0;32m     12\u001b[0m \u001b[1;32mif\u001b[0m \u001b[0m__name__\u001b[0m \u001b[1;33m==\u001b[0m \u001b[1;34m\"__main__\"\u001b[0m\u001b[1;33m:\u001b[0m\u001b[1;33m\u001b[0m\u001b[1;33m\u001b[0m\u001b[0m\n",
      "\u001b[1;32m~\\Anaconda3\\envs\\tfgpu\\lib\\shutil.py\u001b[0m in \u001b[0;36mcopy2\u001b[1;34m(src, dst, follow_symlinks)\u001b[0m\n\u001b[0;32m    261\u001b[0m     \u001b[1;32mif\u001b[0m \u001b[0mos\u001b[0m\u001b[1;33m.\u001b[0m\u001b[0mpath\u001b[0m\u001b[1;33m.\u001b[0m\u001b[0misdir\u001b[0m\u001b[1;33m(\u001b[0m\u001b[0mdst\u001b[0m\u001b[1;33m)\u001b[0m\u001b[1;33m:\u001b[0m\u001b[1;33m\u001b[0m\u001b[1;33m\u001b[0m\u001b[0m\n\u001b[0;32m    262\u001b[0m         \u001b[0mdst\u001b[0m \u001b[1;33m=\u001b[0m \u001b[0mos\u001b[0m\u001b[1;33m.\u001b[0m\u001b[0mpath\u001b[0m\u001b[1;33m.\u001b[0m\u001b[0mjoin\u001b[0m\u001b[1;33m(\u001b[0m\u001b[0mdst\u001b[0m\u001b[1;33m,\u001b[0m \u001b[0mos\u001b[0m\u001b[1;33m.\u001b[0m\u001b[0mpath\u001b[0m\u001b[1;33m.\u001b[0m\u001b[0mbasename\u001b[0m\u001b[1;33m(\u001b[0m\u001b[0msrc\u001b[0m\u001b[1;33m)\u001b[0m\u001b[1;33m)\u001b[0m\u001b[1;33m\u001b[0m\u001b[1;33m\u001b[0m\u001b[0m\n\u001b[1;32m--> 263\u001b[1;33m     \u001b[0mcopyfile\u001b[0m\u001b[1;33m(\u001b[0m\u001b[0msrc\u001b[0m\u001b[1;33m,\u001b[0m \u001b[0mdst\u001b[0m\u001b[1;33m,\u001b[0m \u001b[0mfollow_symlinks\u001b[0m\u001b[1;33m=\u001b[0m\u001b[0mfollow_symlinks\u001b[0m\u001b[1;33m)\u001b[0m\u001b[1;33m\u001b[0m\u001b[1;33m\u001b[0m\u001b[0m\n\u001b[0m\u001b[0;32m    264\u001b[0m     \u001b[0mcopystat\u001b[0m\u001b[1;33m(\u001b[0m\u001b[0msrc\u001b[0m\u001b[1;33m,\u001b[0m \u001b[0mdst\u001b[0m\u001b[1;33m,\u001b[0m \u001b[0mfollow_symlinks\u001b[0m\u001b[1;33m=\u001b[0m\u001b[0mfollow_symlinks\u001b[0m\u001b[1;33m)\u001b[0m\u001b[1;33m\u001b[0m\u001b[1;33m\u001b[0m\u001b[0m\n\u001b[0;32m    265\u001b[0m     \u001b[1;32mreturn\u001b[0m \u001b[0mdst\u001b[0m\u001b[1;33m\u001b[0m\u001b[1;33m\u001b[0m\u001b[0m\n",
      "\u001b[1;32m~\\Anaconda3\\envs\\tfgpu\\lib\\shutil.py\u001b[0m in \u001b[0;36mcopyfile\u001b[1;34m(src, dst, follow_symlinks)\u001b[0m\n\u001b[0;32m    102\u001b[0m     \"\"\"\n\u001b[0;32m    103\u001b[0m     \u001b[1;32mif\u001b[0m \u001b[0m_samefile\u001b[0m\u001b[1;33m(\u001b[0m\u001b[0msrc\u001b[0m\u001b[1;33m,\u001b[0m \u001b[0mdst\u001b[0m\u001b[1;33m)\u001b[0m\u001b[1;33m:\u001b[0m\u001b[1;33m\u001b[0m\u001b[1;33m\u001b[0m\u001b[0m\n\u001b[1;32m--> 104\u001b[1;33m         \u001b[1;32mraise\u001b[0m \u001b[0mSameFileError\u001b[0m\u001b[1;33m(\u001b[0m\u001b[1;34m\"{!r} and {!r} are the same file\"\u001b[0m\u001b[1;33m.\u001b[0m\u001b[0mformat\u001b[0m\u001b[1;33m(\u001b[0m\u001b[0msrc\u001b[0m\u001b[1;33m,\u001b[0m \u001b[0mdst\u001b[0m\u001b[1;33m)\u001b[0m\u001b[1;33m)\u001b[0m\u001b[1;33m\u001b[0m\u001b[1;33m\u001b[0m\u001b[0m\n\u001b[0m\u001b[0;32m    105\u001b[0m \u001b[1;33m\u001b[0m\u001b[0m\n\u001b[0;32m    106\u001b[0m     \u001b[1;32mfor\u001b[0m \u001b[0mfn\u001b[0m \u001b[1;32min\u001b[0m \u001b[1;33m[\u001b[0m\u001b[0msrc\u001b[0m\u001b[1;33m,\u001b[0m \u001b[0mdst\u001b[0m\u001b[1;33m]\u001b[0m\u001b[1;33m:\u001b[0m\u001b[1;33m\u001b[0m\u001b[1;33m\u001b[0m\u001b[0m\n",
      "\u001b[1;31mSameFileError\u001b[0m: './training/0_34.jpeg' and './training/0_34.jpeg' are the same file"
     ]
    }
   ],
   "source": [
    "import os\n",
    "import shutil\n",
    "\n",
    "def cpfile(dirname):\n",
    "    path = './'+ dirname +'/'\n",
    "    for root, dirs, files in os.walk(path):  # replace the . with your starting directory\n",
    "        for file in files:\n",
    "            if file[-5:] == '.jpeg':\n",
    "                path_file = os.path.join(root,file)\n",
    "                shutil.copy2(path_file,path) # change you destination dir\n",
    "        \n",
    "if __name__ == \"__main__\":\n",
    "    cpfile('training')\n",
    "    cpfile('testing')  "
   ]
  },
  {
   "cell_type": "code",
   "execution_count": 15,
   "metadata": {},
   "outputs": [
    {
     "data": {
      "text/plain": [
       "<matplotlib.image.AxesImage at 0x21f684b2e48>"
      ]
     },
     "execution_count": 15,
     "metadata": {},
     "output_type": "execute_result"
    },
    {
     "data": {
      "image/png": "[encoded data removed]",
      "text/plain": [
       "<Figure size 432x288 with 1 Axes>"
      ]
     },
     "metadata": {
      "needs_background": "light"
     },
     "output_type": "display_data"
    }
   ],
   "source": [
    "img = cv2.imread('./training/0_34.jpeg',0)\n",
    "plt.imshow(img)\n"
   ]
  },
  {
   "cell_type": "code",
   "execution_count": 16,
   "metadata": {},
   "outputs": [
    {
     "ename": "error",
     "evalue": "OpenCV(4.2.0) C:\\projects\\opencv-python\\opencv\\modules\\imgproc\\src\\color.cpp:182: error: (-215:Assertion failed) !_src.empty() in function 'cv::cvtColor'\n",
     "output_type": "error",
     "traceback": [
      "\u001b[1;31m---------------------------------------------------------------------------\u001b[0m",
      "\u001b[1;31merror\u001b[0m                                     Traceback (most recent call last)",
      "\u001b[1;32m<ipython-input-16-a28b0a7197e4>\u001b[0m in \u001b[0;36m<module>\u001b[1;34m\u001b[0m\n\u001b[0;32m     14\u001b[0m     \u001b[0mplt\u001b[0m\u001b[1;33m.\u001b[0m\u001b[0mtight_layout\u001b[0m\u001b[1;33m(\u001b[0m\u001b[1;33m)\u001b[0m\u001b[1;33m\u001b[0m\u001b[1;33m\u001b[0m\u001b[0m\n\u001b[0;32m     15\u001b[0m \u001b[1;33m\u001b[0m\u001b[0m\n\u001b[1;32m---> 16\u001b[1;33m \u001b[0mdisplay_samples\u001b[0m\u001b[1;33m(\u001b[0m\u001b[0mtrain_df\u001b[0m\u001b[1;33m)\u001b[0m\u001b[1;33m\u001b[0m\u001b[1;33m\u001b[0m\u001b[0m\n\u001b[0m",
      "\u001b[1;32m<ipython-input-16-a28b0a7197e4>\u001b[0m in \u001b[0;36mdisplay_samples\u001b[1;34m(df, columns, rows)\u001b[0m\n\u001b[0;32m      6\u001b[0m         \u001b[0mimage_id\u001b[0m \u001b[1;33m=\u001b[0m \u001b[0mdf\u001b[0m\u001b[1;33m.\u001b[0m\u001b[0mloc\u001b[0m\u001b[1;33m[\u001b[0m\u001b[0mi\u001b[0m\u001b[1;33m,\u001b[0m\u001b[1;34m'label'\u001b[0m\u001b[1;33m]\u001b[0m\u001b[1;33m\u001b[0m\u001b[1;33m\u001b[0m\u001b[0m\n\u001b[0;32m      7\u001b[0m         \u001b[0mimg\u001b[0m \u001b[1;33m=\u001b[0m \u001b[0mcv2\u001b[0m\u001b[1;33m.\u001b[0m\u001b[0mimread\u001b[0m\u001b[1;33m(\u001b[0m\u001b[1;34m'./training/{image_path}.jpeg'\u001b[0m\u001b[1;33m.\u001b[0m\u001b[0mformat\u001b[0m\u001b[1;33m(\u001b[0m\u001b[0mimage_path\u001b[0m\u001b[1;33m=\u001b[0m\u001b[0mimage_path\u001b[0m\u001b[1;33m)\u001b[0m\u001b[1;33m)\u001b[0m\u001b[1;33m\u001b[0m\u001b[1;33m\u001b[0m\u001b[0m\n\u001b[1;32m----> 8\u001b[1;33m         \u001b[0mimg\u001b[0m \u001b[1;33m=\u001b[0m \u001b[0mcv2\u001b[0m\u001b[1;33m.\u001b[0m\u001b[0mcvtColor\u001b[0m\u001b[1;33m(\u001b[0m\u001b[0mimg\u001b[0m\u001b[1;33m,\u001b[0m \u001b[0mcv2\u001b[0m\u001b[1;33m.\u001b[0m\u001b[0mCOLOR_BGR2RGB\u001b[0m\u001b[1;33m)\u001b[0m\u001b[1;33m\u001b[0m\u001b[1;33m\u001b[0m\u001b[0m\n\u001b[0m\u001b[0;32m      9\u001b[0m \u001b[1;33m\u001b[0m\u001b[0m\n\u001b[0;32m     10\u001b[0m         \u001b[0mfig\u001b[0m\u001b[1;33m.\u001b[0m\u001b[0madd_subplot\u001b[0m\u001b[1;33m(\u001b[0m\u001b[0mrows\u001b[0m\u001b[1;33m,\u001b[0m \u001b[0mcolumns\u001b[0m\u001b[1;33m,\u001b[0m \u001b[0mi\u001b[0m\u001b[1;33m+\u001b[0m\u001b[1;36m1\u001b[0m\u001b[1;33m)\u001b[0m\u001b[1;33m\u001b[0m\u001b[1;33m\u001b[0m\u001b[0m\n",
      "\u001b[1;31merror\u001b[0m: OpenCV(4.2.0) C:\\projects\\opencv-python\\opencv\\modules\\imgproc\\src\\color.cpp:182: error: (-215:Assertion failed) !_src.empty() in function 'cv::cvtColor'\n"
     ]
    },
    {
     "data": {
      "text/plain": [
       "<Figure size 1440x864 with 0 Axes>"
      ]
     },
     "metadata": {},
     "output_type": "display_data"
    }
   ],
   "source": [
    "def display_samples(df, columns=4, rows=3):\n",
    "    fig=plt.figure(figsize=(5*columns, 4*rows))\n",
    "\n",
    "    for i in range(columns*rows):\n",
    "        image_path = df.loc[i,'data']\n",
    "        image_id = df.loc[i,'label']\n",
    "        img = cv2.imread('./training/{image_path}.jpeg'.format(image_path=image_path))\n",
    "        img = cv2.cvtColor(img, cv2.COLOR_BGR2RGB)\n",
    "        \n",
    "        fig.add_subplot(rows, columns, i+1)\n",
    "        plt.title(image_id)\n",
    "        plt.imshow(img)\n",
    "    \n",
    "    plt.tight_layout()\n",
    "\n",
    "display_samples(train_df)"
   ]
  },
  {
   "cell_type": "code",
   "execution_count": 12,
   "metadata": {},
   "outputs": [],
   "source": [
    "def get_pad_width(im, new_shape, is_rgb=True):\n",
    "    pad_diff = new_shape - im.shape[0], new_shape - im.shape[1]\n",
    "    t, b = math.floor(pad_diff[0]/2), math.ceil(pad_diff[0]/2)\n",
    "    l, r = math.floor(pad_diff[1]/2), math.ceil(pad_diff[1]/2)\n",
    "    if is_rgb:\n",
    "        pad_width = ((t,b), (l,r), (0, 0))\n",
    "    else:\n",
    "        pad_width = ((t,b), (l,r))\n",
    "    return pad_width\n",
    "\n",
    "def preprocess_image(image_path, desired_size=224):\n",
    "    im = Image.open(image_path)\n",
    "    im = im.resize((desired_size, )*2, resample=Image.LANCZOS)\n",
    "    \n",
    "    return im"
   ]
  },
  {
   "cell_type": "code",
   "execution_count": 13,
   "metadata": {},
   "outputs": [
    {
     "name": "stderr",
     "output_type": "stream",
     "text": [
      "100%|██████████| 12603/12603 [08:34<00:00, 23.98it/s]\n"
     ]
    }
   ],
   "source": [
    "N = train_df.shape[0]\n",
    "x_train = np.empty((N, 224, 224, 3), dtype=np.uint8)\n",
    "\n",
    "for i, image_id in enumerate(tqdm(train_df['data'])):\n",
    "    x_train[i, :, :, :] = preprocess_image(\n",
    "        './training/{image_id}.jpeg'.format(image_id=image_id))\n",
    "    "
   ]
  },
  {
   "cell_type": "code",
   "execution_count": 14,
   "metadata": {},
   "outputs": [
    {
     "name": "stderr",
     "output_type": "stream",
     "text": [
      "100%|██████████| 3153/3153 [02:08<00:00, 24.62it/s]\n"
     ]
    }
   ],
   "source": [
    "N = test_df.shape[0]\n",
    "x_test = np.empty((N, 224, 224, 3), dtype=np.uint8)\n",
    "\n",
    "for i, image_id in enumerate(tqdm(test_df['data'])):\n",
    "    x_test[i, :, :, :] = preprocess_image(\n",
    "        './testing/{image_id}.jpeg'.format(image_id=image_id))\n",
    "    "
   ]
  },
  {
   "cell_type": "code",
   "execution_count": 15,
   "metadata": {},
   "outputs": [
    {
     "name": "stdout",
     "output_type": "stream",
     "text": [
      "(12603, 224, 224, 3)\n",
      "(12603,)\n",
      "(3153, 224, 224, 3)\n",
      "(3153,)\n"
     ]
    }
   ],
   "source": [
    "y_train = train_df.iloc[:,1]\n",
    "y_test = test_df.iloc[:,1]\n",
    "\n",
    "print(x_train.shape)\n",
    "print(y_train.shape)\n",
    "print(x_test.shape)\n",
    "print(y_test.shape)"
   ]
  },
  {
   "cell_type": "code",
   "execution_count": 16,
   "metadata": {},
   "outputs": [],
   "source": [
    "x_train, x_val, y_train, y_val = train_test_split(\n",
    "    x_train, y_train, \n",
    "    test_size=0.15, \n",
    "    random_state=2019\n",
    ")"
   ]
  },
  {
   "cell_type": "code",
   "execution_count": 17,
   "metadata": {},
   "outputs": [
    {
     "data": {
      "text/plain": [
       "(array([0, 1, 2, 3, 4]), array([4395, 1667, 3583,  592,  475]))"
      ]
     },
     "execution_count": 17,
     "metadata": {},
     "output_type": "execute_result"
    }
   ],
   "source": [
    "np.unique(y_train, return_counts=True)"
   ]
  },
  {
   "cell_type": "code",
   "execution_count": 18,
   "metadata": {},
   "outputs": [
    {
     "data": {
      "text/plain": [
       "(array([0, 1, 2, 3, 4]), array([1290,  488, 1058,  175,  142]))"
      ]
     },
     "execution_count": 18,
     "metadata": {},
     "output_type": "execute_result"
    }
   ],
   "source": [
    "np.unique(y_test, return_counts=True)"
   ]
  },
  {
   "cell_type": "markdown",
   "metadata": {},
   "source": [
    "## Mixup & Data Generator"
   ]
  },
  {
   "cell_type": "code",
   "execution_count": 21,
   "metadata": {},
   "outputs": [],
   "source": [
    "class MixupGenerator():\n",
    "    def __init__(self, X_train, y_train, batch_size=32, alpha=0.2, shuffle=True, datagen=None):\n",
    "        self.X_train = X_train\n",
    "        self.y_train = y_train\n",
    "        self.batch_size = batch_size\n",
    "        self.alpha = alpha\n",
    "        self.shuffle = shuffle\n",
    "        self.sample_num = len(X_train)\n",
    "        self.datagen = datagen\n",
    "\n",
    "    def __call__(self):\n",
    "        while True:\n",
    "            indexes = self.__get_exploration_order()\n",
    "            itr_num = int(len(indexes) // (self.batch_size * 2))\n",
    "\n",
    "            for i in range(itr_num):\n",
    "                batch_ids = indexes[i * self.batch_size * 2:(i + 1) * self.batch_size * 2]\n",
    "                X, y = self.__data_generation(batch_ids)\n",
    "\n",
    "                yield X, y\n",
    "\n",
    "    def __get_exploration_order(self):\n",
    "        indexes = np.arange(self.sample_num)\n",
    "\n",
    "        if self.shuffle:\n",
    "            np.random.shuffle(indexes)\n",
    "\n",
    "        return indexes\n",
    "\n",
    "    def __data_generation(self, batch_ids):\n",
    "        _, h, w, c = self.X_train.shape\n",
    "        l = np.random.beta(self.alpha, self.alpha, self.batch_size)\n",
    "        X_l = l.reshape(self.batch_size, 1, 1, 1)\n",
    "        y_l = l.reshape(self.batch_size, 1)\n",
    "\n",
    "        X1 = self.X_train[batch_ids[:self.batch_size]]\n",
    "        X2 = self.X_train[batch_ids[self.batch_size:]]\n",
    "        X = X1 * X_l + X2 * (1 - X_l)\n",
    "\n",
    "        if self.datagen:\n",
    "            for i in range(self.batch_size):\n",
    "                X[i] = self.datagen.random_transform(X[i])\n",
    "                X[i] = self.datagen.standardize(X[i])\n",
    "\n",
    "        if isinstance(self.y_train, list):\n",
    "            y = []\n",
    "\n",
    "            for y_train_ in self.y_train:\n",
    "                y1 = y_train_[batch_ids[:self.batch_size]]\n",
    "                y2 = y_train_[batch_ids[self.batch_size:]]\n",
    "                y.append(y1 * y_l + y2 * (1 - y_l))\n",
    "        else:\n",
    "            y1 = self.y_train[batch_ids[:self.batch_size]]\n",
    "            y2 = self.y_train[batch_ids[self.batch_size:]]\n",
    "            y = y1 * y_l + y2 * (1 - y_l)\n",
    "\n",
    "        return X, y"
   ]
  },
  {
   "cell_type": "code",
   "execution_count": 22,
   "metadata": {},
   "outputs": [],
   "source": [
    "BATCH_SIZE = 32\n",
    "\n",
    "def create_datagen():\n",
    "    return ImageDataGenerator(\n",
    "        zoom_range=0.15,  # set range for random zoom\n",
    "        # set mode for filling points outside the input boundaries\n",
    "        fill_mode='constant',\n",
    "        cval=0.,  # value used for fill_mode = \"constant\"\n",
    "        horizontal_flip=True,  # randomly flip images\n",
    "        vertical_flip=True,  # randomly flip images\n",
    "    )\n",
    "\n",
    "# Using original generator\n",
    "data_generator = create_datagen().flow(x_train, y_train, batch_size=BATCH_SIZE, seed=2019)\n",
    "# Using Mixup\n",
    "mixup_generator = MixupGenerator(x_train, y_train, batch_size=BATCH_SIZE, alpha=0.2, datagen=create_datagen())()"
   ]
  },
  {
   "cell_type": "markdown",
   "metadata": {},
   "source": [
    "## Quadratic Weighted Kappa"
   ]
  },
  {
   "cell_type": "code",
   "execution_count": 24,
   "metadata": {},
   "outputs": [],
   "source": [
    "class Metrics(Callback):\n",
    "    def on_train_begin(self, logs={}):\n",
    "        self.val_kappas = []\n",
    "\n",
    "    def on_epoch_end(self, epoch, logs={}):\n",
    "        X_val, y_val = self.validation_data[:2]\n",
    "        y_val = y_val.sum(axis=1) - 1\n",
    "        \n",
    "        y_pred = self.model.predict(X_val) > 0.5\n",
    "        y_pred = y_pred.astype(int).sum(axis=1) - 1\n",
    "\n",
    "        _val_kappa = cohen_kappa_score(\n",
    "            y_val,\n",
    "            y_pred, \n",
    "            weights='quadratic'\n",
    "        )\n",
    "\n",
    "        self.val_kappas.append(_val_kappa)\n",
    "\n",
    "        print(\"val_kappa:  %f\" % (_val_kappa))\n",
    "        \n",
    "        if _val_kappa == max(self.val_kappas):\n",
    "            print(\"Validation Kappa has improved. Saving model.\")\n",
    "            self.model.save('model.h5')\n",
    "\n",
    "        return"
   ]
  },
  {
   "cell_type": "code",
   "execution_count": 19,
   "metadata": {},
   "outputs": [],
   "source": [
    "densenet = DenseNet121(\n",
    "    weights='./DenseNet-BC-121-32-no-top.h5',\n",
    "    include_top=False,\n",
    "    input_shape=(224,224,3)\n",
    ")"
   ]
  },
  {
   "cell_type": "markdown",
   "metadata": {},
   "source": [
    "# Edited Point Loss Wrapper"
   ]
  },
  {
   "cell_type": "code",
   "execution_count": 20,
   "metadata": {},
   "outputs": [],
   "source": [
    "# example Keras wrapper for hp_point_loss\n",
    "\n",
    "def get_ohpl_wrapper (l, u):\n",
    "    def ohpl(y_true, y_pred):\n",
    "        return hp_point_loss(y_true, y_pred, l, u)\n",
    "    return ohpl"
   ]
  },
  {
   "cell_type": "code",
   "execution_count": 60,
   "metadata": {},
   "outputs": [],
   "source": [
    "# example Keras wrapper for hp_ordering_loss\n",
    "\n",
    "def get_ordering_wrapper (min_label, max_label, margin):\n",
    "    def ohpl(y_true, y_pred):\n",
    "        return hp_ordering_loss(y_true, y_pred)\n",
    "    return ohpl\n",
    "\n",
    "hp_ordering_loss = get_ohpl_wrapper(0,4, 0.1)"
   ]
  },
  {
   "cell_type": "markdown",
   "metadata": {},
   "source": [
    "# Margin function"
   ]
  },
  {
   "cell_type": "code",
   "execution_count": null,
   "metadata": {},
   "outputs": [],
   "source": [
    "# centers is training set centers see 'train_cent' above\n",
    "# margin is the point margin\n",
    "# num_ords is the number of unique ordinal label values\n",
    "\n",
    "def ohpl_margins(centers, num_ords, margin=0.1)\n",
    "    inner_ord_array = np.ones(num_ords - 1).reshape(-1,1)\n",
    "    up = np.concatenate((inner_ord_array*margin, [[1e9]]), axis=0)+centers\n",
    "    lo = centers-np.concatenate(([[1e9]], inner_ord_array*marginargin), axis=0)\n",
    "\n",
    "    return lo, up\n"
   ]
  },
  {
   "cell_type": "code",
   "execution_count": 21,
   "metadata": {},
   "outputs": [],
   "source": [
    "def build_model():\n",
    "    model = Sequential()\n",
    "    model.add(densenet)\n",
    "    model.add(layers.GlobalAveragePooling2D())\n",
    "    model.add(layers.Dropout(0.5))\n",
    "    model.add(layers.Dense(1024, activation='relu'))\n",
    "    model.add(layers.Dense(1))\n",
    "\n",
    "\n",
    "    \n",
    "    return model"
   ]
  },
  {
   "cell_type": "code",
   "execution_count": 22,
   "metadata": {},
   "outputs": [
    {
     "name": "stdout",
     "output_type": "stream",
     "text": [
      "_________________________________________________________________\n",
      "Layer (type)                 Output Shape              Param #   \n",
      "=================================================================\n",
      "densenet121 (Model)          (None, 7, 7, 1024)        7037504   \n",
      "_________________________________________________________________\n",
      "global_average_pooling2d_1 ( (None, 1024)              0         \n",
      "_________________________________________________________________\n",
      "dropout_1 (Dropout)          (None, 1024)              0         \n",
      "_________________________________________________________________\n",
      "dense_1 (Dense)              (None, 1024)              1049600   \n",
      "_________________________________________________________________\n",
      "dense_2 (Dense)              (None, 1)                 1025      \n",
      "=================================================================\n",
      "Total params: 8,088,129\n",
      "Trainable params: 8,004,481\n",
      "Non-trainable params: 83,648\n",
      "_________________________________________________________________\n"
     ]
    }
   ],
   "source": [
    "model = build_model()\n",
    "model.summary()"
   ]
  },
  {
   "cell_type": "code",
   "execution_count": null,
   "metadata": {},
   "outputs": [],
   "source": [
    "# Compiled Model For Stage 1 Ordering Loss "
   ]
  },
  {
   "cell_type": "code",
   "execution_count": 23,
   "metadata": {},
   "outputs": [],
   "source": [
    "model.compile(\n",
    "    loss=hp_ordering_loss,\n",
    "    #loss='binary_crossentropy',\n",
    "    optimizer=Adam(lr=0.0003),\n",
    "    #metrics=['accuracy']\n",
    "    )"
   ]
  },
  {
   "cell_type": "markdown",
   "metadata": {},
   "source": [
    "## Training and Evaluation Stage 1"
   ]
  },
  {
   "cell_type": "code",
   "execution_count": 24,
   "metadata": {},
   "outputs": [
    {
     "name": "stdout",
     "output_type": "stream",
     "text": [
      "Train on 10712 samples, validate on 1891 samples\n",
      "Epoch 1/15\n",
      "10712/10712 [==============================] - 200s 19ms/step - loss: 38.2461 - val_loss: 0.0000e+00\n",
      "Epoch 2/15\n",
      "10712/10712 [==============================] - 168s 16ms/step - loss: 1.6669 - val_loss: 0.0000e+00\n",
      "Epoch 3/15\n",
      "10712/10712 [==============================] - 168s 16ms/step - loss: 0.2676 - val_loss: 0.0000e+00\n",
      "Epoch 4/15\n",
      "10712/10712 [==============================] - 168s 16ms/step - loss: 0.1374 - val_loss: 0.0000e+00\n",
      "Epoch 5/15\n",
      "10712/10712 [==============================] - 167s 16ms/step - loss: 0.1168 - val_loss: 0.0000e+00\n",
      "Epoch 6/15\n",
      "10712/10712 [==============================] - 167s 16ms/step - loss: 0.0469 - val_loss: 0.0000e+00\n",
      "Epoch 7/15\n",
      "10712/10712 [==============================] - 168s 16ms/step - loss: 0.0735 - val_loss: 0.0000e+00\n",
      "Epoch 8/15\n",
      "10712/10712 [==============================] - 167s 16ms/step - loss: 0.0666 - val_loss: 0.0000e+00\n",
      "Epoch 9/15\n",
      "10712/10712 [==============================] - 167s 16ms/step - loss: 0.0315 - val_loss: 0.0000e+00\n",
      "Epoch 10/15\n",
      "10712/10712 [==============================] - 167s 16ms/step - loss: 0.0354 - val_loss: 0.0000e+00\n",
      "Epoch 11/15\n",
      "10712/10712 [==============================] - 167s 16ms/step - loss: 0.0354 - val_loss: 0.0000e+00\n",
      "Epoch 12/15\n",
      "10712/10712 [==============================] - 167s 16ms/step - loss: 0.0223 - val_loss: 0.0000e+00\n",
      "Epoch 13/15\n",
      "10712/10712 [==============================] - 167s 16ms/step - loss: 0.0024 - val_loss: 0.0000e+00\n",
      "Epoch 14/15\n",
      "10712/10712 [==============================] - 167s 16ms/step - loss: 0.0014 - val_loss: 0.0000e+00\n",
      "Epoch 15/15\n",
      "10712/10712 [==============================] - 168s 16ms/step - loss: 0.0043 - val_loss: 0.0000e+00\n"
     ]
    }
   ],
   "source": [
    "# Stage 1: hyperplane ordering loss\n",
    "batch_size=24\n",
    "history = model.fit(\n",
    "    x_train, y_train, batch_size=24,\n",
    "    epochs=15,\n",
    "    #steps_per_epoch=x_train.shape[0] / batch_size,\n",
    "    validation_data=(x_val, y_val),\n",
    "    #callbacks=[kappa_metrics]\n",
    ")"
   ]
  },
  {
   "cell_type": "code",
   "execution_count": 72,
   "metadata": {},
   "outputs": [
    {
     "data": {
      "text/plain": [
       "(10712,)"
      ]
     },
     "execution_count": 72,
     "metadata": {},
     "output_type": "execute_result"
    }
   ],
   "source": [
    "y_train.shape"
   ]
  },
  {
   "cell_type": "code",
   "execution_count": 25,
   "metadata": {},
   "outputs": [],
   "source": [
    "# Define the minimum class\n",
    "min_class = min(y_train.unique())\n",
    "y_train = np.array(y_train)"
   ]
  },
  {
   "cell_type": "markdown",
   "metadata": {},
   "source": [
    "# Edited to add valdation set One Hot"
   ]
  },
  {
   "cell_type": "code",
   "execution_count": 26,
   "metadata": {},
   "outputs": [],
   "source": [
    "# Create matrix from on hot encoded training labels to use to calculate class centroids\n",
    "from sklearn.preprocessing import OneHotEncoder\n",
    "onehot_encoder = OneHotEncoder(sparse=False)\n",
    "onehot = onehot_encoder.fit_transform(y_train.reshape((-1, 1)))\n",
    "valhot = onehot_encoder.fit_transform(y_val.reshape((-1, 1)))\n",
    "onehot_inverse = 1/np.sum((onehot.T), axis=1)\n",
    "new_y_train = onehot.T*onehot_inverse.reshape(-1,1)"
   ]
  },
  {
   "cell_type": "code",
   "execution_count": 27,
   "metadata": {},
   "outputs": [],
   "source": [
    "# Score the training set\n",
    "pred = model.predict(x_train, batch_size=24)"
   ]
  },
  {
   "cell_type": "code",
   "execution_count": 28,
   "metadata": {},
   "outputs": [
    {
     "name": "stdout",
     "output_type": "stream",
     "text": [
      "(10712, 224, 224, 3)\n",
      "(10712, 1)\n",
      "(5, 10712)\n"
     ]
    }
   ],
   "source": [
    "print(x_train.shape)\n",
    "print(pred.shape)\n",
    "print(new_y_train.shape)"
   ]
  },
  {
   "cell_type": "code",
   "execution_count": 29,
   "metadata": {},
   "outputs": [],
   "source": [
    "# Multiply centroid calculation matrix, new_y_train, by training set scores\n",
    "train_cent = np.matmul(new_y_train, pred)"
   ]
  },
  {
   "cell_type": "markdown",
   "metadata": {},
   "source": [
    "# Edited to Add Stage 2 Point loss\n",
    "## Note Point loss is defined here"
   ]
  },
  {
   "cell_type": "code",
   "execution_count": null,
   "metadata": {},
   "outputs": [],
   "source": [
    "# generate list of ordinal values, use length as ord count in ohpl_margins function\n",
    "ords = np.unique(y_train)\n",
    "\n",
    "point_loss = get_ohpl_wrapper(ohpl_margins(train_cent, len(ords), 0.1))"
   ]
  },
  {
   "cell_type": "code",
   "execution_count": 23,
   "metadata": {},
   "outputs": [],
   "source": [
    "# Recompile Model with point loss \n",
    "\n",
    "model.compile(\n",
    "    loss=point_loss,\n",
    "    #loss='binary_crossentropy',\n",
    "    optimizer=Adam(lr=0.0003),\n",
    "    #metrics=['accuracy']\n",
    "    )"
   ]
  },
  {
   "cell_type": "markdown",
   "metadata": {},
   "source": [
    "## Edited Training and Evaluation Stage 2"
   ]
  },
  {
   "cell_type": "code",
   "execution_count": 24,
   "metadata": {},
   "outputs": [
    {
     "name": "stdout",
     "output_type": "stream",
     "text": [
      "Train on 10712 samples, validate on 1891 samples\n",
      "Epoch 1/15\n",
      "10712/10712 [==============================] - 200s 19ms/step - loss: 38.2461 - val_loss: 0.0000e+00\n",
      "Epoch 2/15\n",
      "10712/10712 [==============================] - 168s 16ms/step - loss: 1.6669 - val_loss: 0.0000e+00\n",
      "Epoch 3/15\n",
      "10712/10712 [==============================] - 168s 16ms/step - loss: 0.2676 - val_loss: 0.0000e+00\n",
      "Epoch 4/15\n",
      "10712/10712 [==============================] - 168s 16ms/step - loss: 0.1374 - val_loss: 0.0000e+00\n",
      "Epoch 5/15\n",
      "10712/10712 [==============================] - 167s 16ms/step - loss: 0.1168 - val_loss: 0.0000e+00\n",
      "Epoch 6/15\n",
      "10712/10712 [==============================] - 167s 16ms/step - loss: 0.0469 - val_loss: 0.0000e+00\n",
      "Epoch 7/15\n",
      "10712/10712 [==============================] - 168s 16ms/step - loss: 0.0735 - val_loss: 0.0000e+00\n",
      "Epoch 8/15\n",
      "10712/10712 [==============================] - 167s 16ms/step - loss: 0.0666 - val_loss: 0.0000e+00\n",
      "Epoch 9/15\n",
      "10712/10712 [==============================] - 167s 16ms/step - loss: 0.0315 - val_loss: 0.0000e+00\n",
      "Epoch 10/15\n",
      "10712/10712 [==============================] - 167s 16ms/step - loss: 0.0354 - val_loss: 0.0000e+00\n",
      "Epoch 11/15\n",
      "10712/10712 [==============================] - 167s 16ms/step - loss: 0.0354 - val_loss: 0.0000e+00\n",
      "Epoch 12/15\n",
      "10712/10712 [==============================] - 167s 16ms/step - loss: 0.0223 - val_loss: 0.0000e+00\n",
      "Epoch 13/15\n",
      "10712/10712 [==============================] - 167s 16ms/step - loss: 0.0024 - val_loss: 0.0000e+00\n",
      "Epoch 14/15\n",
      "10712/10712 [==============================] - 167s 16ms/step - loss: 0.0014 - val_loss: 0.0000e+00\n",
      "Epoch 15/15\n",
      "10712/10712 [==============================] - 168s 16ms/step - loss: 0.0043 - val_loss: 0.0000e+00\n"
     ]
    }
   ],
   "source": [
    "# Stage :2 hyperplane point loss\n",
    "\n",
    "batch_size=24\n",
    "history = model.fit(\n",
    "    x_train, onehot, batch_size=24,\n",
    "    epochs=15,\n",
    "    #steps_per_epoch=x_train.shape[0] / batch_size,\n",
    "    validation_data=(x_val, valhot),\n",
    "    #callbacks=[kappa_metrics]\n",
    ")"
   ]
  },
  {
   "cell_type": "code",
   "execution_count": 30,
   "metadata": {},
   "outputs": [],
   "source": [
    "# Calculate new data model score\n",
    "new_pred = model.predict(x_test)"
   ]
  },
  {
   "cell_type": "code",
   "execution_count": 75,
   "metadata": {},
   "outputs": [
    {
     "name": "stdout",
     "output_type": "stream",
     "text": [
      "(3153, 1)\n",
      "(1, 5)\n",
      "()\n"
     ]
    }
   ],
   "source": [
    "print(new_pred.shape)\n",
    "print(rcenter.shape)\n",
    "print(min_class.shape)\n",
    "\n"
   ]
  },
  {
   "cell_type": "code",
   "execution_count": 31,
   "metadata": {},
   "outputs": [],
   "source": [
    "# Identify the closest centroid\n",
    "rcenter = train_cent.T # create row matrix of centroids\n",
    "y_pred = np.argmin(abs(new_pred - rcenter), axis=1) + min_class"
   ]
  },
  {
   "cell_type": "code",
   "execution_count": null,
   "metadata": {},
   "outputs": [],
   "source": []
  },
  {
   "cell_type": "code",
   "execution_count": 32,
   "metadata": {},
   "outputs": [
    {
     "name": "stdout",
     "output_type": "stream",
     "text": [
      "2.31779257849667 0.9349825562955915\n"
     ]
    }
   ],
   "source": [
    "# calculate the mean absolute error and mean zero one error\n",
    "mae = np.mean(abs(y_pred - y_test))\n",
    "mze = np.mean(abs(y_pred - y_test) > 0)   \n",
    "print(mae, mze)"
   ]
  },
  {
   "cell_type": "code",
   "execution_count": 34,
   "metadata": {},
   "outputs": [
    {
     "name": "stdout",
     "output_type": "stream",
     "text": [
      "Confusion Matrix\n",
      "[[ 19  13  10 633 615]\n",
      " [ 10   3   2 225 248]\n",
      " [ 15   6   9 542 486]\n",
      " [  3   1   0  97  74]\n",
      " [  2   2   0  61  77]]\n",
      "Classification Report\n",
      "             precision    recall  f1-score   support\n",
      "\n",
      "          0       0.39      0.01      0.03      1290\n",
      "          1       0.12      0.01      0.01       488\n",
      "          2       0.43      0.01      0.02      1058\n",
      "          3       0.06      0.55      0.11       175\n",
      "          4       0.05      0.54      0.09       142\n",
      "\n",
      "avg / total       0.33      0.07      0.03      3153\n",
      "\n"
     ]
    }
   ],
   "source": [
    "from sklearn.metrics import confusion_matrix \n",
    "from sklearn.metrics import classification_report\n",
    "print('Confusion Matrix')\n",
    "print(confusion_matrix(y_test, y_pred))\n",
    "print('Classification Report')\n",
    "target_names = ['0', '1', '2', '3', '4']\n",
    "print(classification_report(y_test, y_pred, target_names=target_names))"
   ]
  },
  {
   "cell_type": "code",
   "execution_count": 58,
   "metadata": {},
   "outputs": [
    {
     "ename": "AttributeError",
     "evalue": "module 'tensorflow._api.v1.keras.losses' has no attribute 'Loss'",
     "output_type": "error",
     "traceback": [
      "\u001b[0;31m---------------------------------------------------------------------------\u001b[0m",
      "\u001b[0;31mAttributeError\u001b[0m                            Traceback (most recent call last)",
      "\u001b[0;32m<ipython-input-58-e614887c10e0>\u001b[0m in \u001b[0;36m<module>\u001b[0;34m\u001b[0m\n\u001b[1;32m      1\u001b[0m \u001b[0;34m\u001b[0m\u001b[0m\n\u001b[0;32m----> 2\u001b[0;31m \u001b[0;32mclass\u001b[0m \u001b[0mOHPLoss\u001b[0m\u001b[0;34m(\u001b[0m\u001b[0mtf\u001b[0m\u001b[0;34m.\u001b[0m\u001b[0mkeras\u001b[0m\u001b[0;34m.\u001b[0m\u001b[0mlosses\u001b[0m\u001b[0;34m.\u001b[0m\u001b[0mLoss\u001b[0m\u001b[0;34m)\u001b[0m\u001b[0;34m:\u001b[0m\u001b[0;34m\u001b[0m\u001b[0m\n\u001b[0m\u001b[1;32m      3\u001b[0m     \u001b[0;32mdef\u001b[0m \u001b[0m__init__\u001b[0m\u001b[0;34m(\u001b[0m\u001b[0mself\u001b[0m\u001b[0;34m,\u001b[0m \u001b[0mminlabel\u001b[0m\u001b[0;34m,\u001b[0m \u001b[0mmaxlabel\u001b[0m\u001b[0;34m,\u001b[0m \u001b[0mmargin\u001b[0m\u001b[0;34m=\u001b[0m\u001b[0;36m1.0\u001b[0m\u001b[0;34m,\u001b[0m \u001b[0;34m**\u001b[0m\u001b[0mkwargs\u001b[0m\u001b[0;34m)\u001b[0m\u001b[0;34m:\u001b[0m\u001b[0;34m\u001b[0m\u001b[0m\n\u001b[1;32m      4\u001b[0m         \u001b[0mself\u001b[0m\u001b[0;34m.\u001b[0m\u001b[0mminlabel\u001b[0m \u001b[0;34m=\u001b[0m \u001b[0mminlabel\u001b[0m\u001b[0;34m\u001b[0m\u001b[0m\n\u001b[1;32m      5\u001b[0m         \u001b[0mself\u001b[0m\u001b[0;34m.\u001b[0m\u001b[0mmaxlabel\u001b[0m \u001b[0;34m=\u001b[0m \u001b[0mmaxlabel\u001b[0m\u001b[0;34m\u001b[0m\u001b[0m\n",
      "\u001b[0;31mAttributeError\u001b[0m: module 'tensorflow._api.v1.keras.losses' has no attribute 'Loss'"
     ]
    }
   ],
   "source": [
    "\n",
    "class OHPLoss(tf.keras.losses.Loss):\n",
    "    def __init__(self, minlabel, maxlabel, margin=1.0, **kwargs):\n",
    "        self.minlabel = minlabel\n",
    "        self.maxlabel = maxlabel\n",
    "        self.margin = margin\n",
    "        super().__init__(**kwargs)\n",
    "        \n",
    "    def call(self, y_true, y_pred):\n",
    "        min_label = tf.constant(self.minlabel, dtype=tf.float32)\n",
    "        max_label = tf.constant(self.maxlabel, dtype=tf.float32)\n",
    "        margin = tf.constant(self.margin, dtype=tf.float32) # centroid margin\n",
    "\n",
    "        y_pred = tf.convert_to_tensor(y_pred)\n",
    "        y_true = tf.dtypes.cast(y_true, y_pred.dtype)\n",
    "        y_pred = tf.reshape(tf.transpose(y_pred),[-1,1])\n",
    "\n",
    "        # one hot vector for y_true\n",
    "        ords, idx = tf.unique(tf.reshape(y_true, [-1])) \n",
    "        num = tf.shape(ords)[0]\n",
    "        y_true_1hot = tf.one_hot(idx, num)\n",
    "\n",
    "        # mean distance for each class\n",
    "        yO = tf.transpose(y_pred) @ y_true_1hot\n",
    "        yc = tf.reduce_sum(y_true_1hot,0)\n",
    "        class_mean = tf.divide(yO,yc) \n",
    "\n",
    "        # mean by class\n",
    "        class_mean = tf.reshape(class_mean,[-1,1])\n",
    "        mean_matrix = y_true_1hot @ class_mean\n",
    "\n",
    "        lower_bound = tf.subtract(min_label,y_true)\n",
    "        lower_bound = tf.add(lower_bound,1)\n",
    "        lower_bound = tf.multiply(lower_bound,1e9)\n",
    "        # apply ReLU    \n",
    "        lower_bound = tf.nn.relu(lower_bound)\n",
    "        lower_bound = tf.add(margin, lower_bound)\n",
    "\n",
    "        upper_bound = tf.subtract(y_true,max_label)\n",
    "        upper_bound = tf.add(lower_bound,1)\n",
    "        upper_bound = tf.multiply(lower_bound,1e9)\n",
    "        # apply ReLU    \n",
    "        upper_bound = tf.nn.relu(lower_bound)\n",
    "        upper_bound = tf.add(margin, lower_bound)    \n",
    "\n",
    "        upper_loss = tf.add(mean_matrix,upper_bound[:,tf.newaxis])\n",
    "        upper_loss = tf.subtract(y_pred,upper_loss)\n",
    "        # apply ReLU    \n",
    "        upper_loss = tf.nn.relu(upper_loss)\n",
    "\n",
    "        lower_loss = tf.add(lower_bound[:,tf.newaxis],y_pred)\n",
    "        lower_loss = tf.subtract(mean_matrix,lower_loss)\n",
    "        # apply ReLU    \n",
    "        lower_loss = tf.nn.relu(lower_loss)\n",
    "\n",
    "        hp_point_loss = tf.add(upper_loss, lower_loss)\n",
    "\n",
    "        return tf.reshape(hp_point_loss,[1,-1])"
   ]
  },
  {
   "cell_type": "code",
   "execution_count": 61,
   "metadata": {},
   "outputs": [],
   "source": [
    "  \n",
    "model.compile(\n",
    "    loss=hp_ordering_loss,\n",
    "    #loss='binary_crossentropy',\n",
    "    optimizer=Adam(lr=0.0003),\n",
    "    #metrics=['accuracy']\n",
    "    )"
   ]
  },
  {
   "cell_type": "code",
   "execution_count": 62,
   "metadata": {},
   "outputs": [
    {
     "name": "stdout",
     "output_type": "stream",
     "text": [
      "Train on 10712 samples, validate on 1891 samples\n",
      "Epoch 1/15\n",
      "10712/10712 [==============================] - 201s 19ms/step - loss: 0.0864 - val_loss: 0.0000e+00\n",
      "Epoch 2/15\n",
      "10712/10712 [==============================] - 168s 16ms/step - loss: 0.0162 - val_loss: 0.0000e+00\n",
      "Epoch 3/15\n",
      "10712/10712 [==============================] - 168s 16ms/step - loss: 7.0490e-04 - val_loss: 0.0000e+00\n",
      "Epoch 4/15\n",
      "10712/10712 [==============================] - 168s 16ms/step - loss: 0.0000e+00 - val_loss: 0.0000e+00\n",
      "Epoch 5/15\n",
      "10712/10712 [==============================] - 168s 16ms/step - loss: 0.0000e+00 - val_loss: 0.0000e+00\n",
      "Epoch 6/15\n",
      "10712/10712 [==============================] - 167s 16ms/step - loss: 0.0000e+00 - val_loss: 0.0000e+00\n",
      "Epoch 7/15\n",
      "10712/10712 [==============================] - 167s 16ms/step - loss: 0.0017 - val_loss: 0.0000e+00\n",
      "Epoch 8/15\n",
      "10712/10712 [==============================] - 167s 16ms/step - loss: 0.0318 - val_loss: 0.0000e+00\n",
      "Epoch 9/15\n",
      "10712/10712 [==============================] - 167s 16ms/step - loss: 0.0016 - val_loss: 0.0000e+00\n",
      "Epoch 10/15\n",
      "10712/10712 [==============================] - 168s 16ms/step - loss: 1.5726e-04 - val_loss: 0.0000e+00\n",
      "Epoch 11/15\n",
      "10712/10712 [==============================] - 168s 16ms/step - loss: 0.0000e+00 - val_loss: 0.0000e+00\n",
      "Epoch 12/15\n",
      "10712/10712 [==============================] - 168s 16ms/step - loss: 5.5806e-05 - val_loss: 0.0000e+00\n",
      "Epoch 13/15\n",
      "10712/10712 [==============================] - 169s 16ms/step - loss: 0.0000e+00 - val_loss: 0.0000e+00\n",
      "Epoch 14/15\n",
      "10712/10712 [==============================] - 168s 16ms/step - loss: 0.0000e+00 - val_loss: 0.0000e+00\n",
      "Epoch 15/15\n",
      "10712/10712 [==============================] - 168s 16ms/step - loss: 0.0000e+00 - val_loss: 0.0000e+00\n"
     ]
    }
   ],
   "source": [
    "# Stage 1: hyperplane ordering loss\n",
    "batch_size=24\n",
    "history = model.fit(\n",
    "    x_train, y_train, batch_size=24,\n",
    "    epochs=15,\n",
    "    #steps_per_epoch=x_train.shape[0] / batch_size,\n",
    "    validation_data=(x_val, y_val),\n",
    "    #callbacks=[kappa_metrics]\n",
    ")"
   ]
  },
  {
   "cell_type": "code",
   "execution_count": 64,
   "metadata": {},
   "outputs": [
    {
     "ename": "AttributeError",
     "evalue": "'numpy.ndarray' object has no attribute 'unique'",
     "output_type": "error",
     "traceback": [
      "\u001b[0;31m---------------------------------------------------------------------------\u001b[0m",
      "\u001b[0;31mAttributeError\u001b[0m                            Traceback (most recent call last)",
      "\u001b[0;32m<ipython-input-64-0cf688c13cd9>\u001b[0m in \u001b[0;36m<module>\u001b[0;34m\u001b[0m\n\u001b[1;32m      1\u001b[0m \u001b[0;31m# Define the minimum class\u001b[0m\u001b[0;34m\u001b[0m\u001b[0;34m\u001b[0m\u001b[0m\n\u001b[0;32m----> 2\u001b[0;31m \u001b[0mmin_class\u001b[0m \u001b[0;34m=\u001b[0m \u001b[0mmin\u001b[0m\u001b[0;34m(\u001b[0m\u001b[0my_train\u001b[0m\u001b[0;34m.\u001b[0m\u001b[0munique\u001b[0m\u001b[0;34m(\u001b[0m\u001b[0;34m)\u001b[0m\u001b[0;34m)\u001b[0m\u001b[0;34m\u001b[0m\u001b[0m\n\u001b[0m\u001b[1;32m      3\u001b[0m \u001b[0my_train\u001b[0m \u001b[0;34m=\u001b[0m \u001b[0mnp\u001b[0m\u001b[0;34m.\u001b[0m\u001b[0marray\u001b[0m\u001b[0;34m(\u001b[0m\u001b[0my_train\u001b[0m\u001b[0;34m)\u001b[0m\u001b[0;34m\u001b[0m\u001b[0m\n",
      "\u001b[0;31mAttributeError\u001b[0m: 'numpy.ndarray' object has no attribute 'unique'"
     ]
    }
   ],
   "source": [
    "# Define the minimum class\n",
    "min_class = min(y_train.unique())\n",
    "y_train = np.array(y_train)"
   ]
  },
  {
   "cell_type": "code",
   "execution_count": null,
   "metadata": {},
   "outputs": [],
   "source": [
    "# Create matrix from on hot encoded training labels to use to calculate class centroids\n",
    "from sklearn.preprocessing import OneHotEncoder\n",
    "onehot_encoder = OneHotEncoder(sparse=False)\n",
    "onehot = onehot_encoder.fit_transform(y_train.reshape((-1, 1)))\n",
    "onehot_inverse = 1/np.sum((onehot.T), axis=1)\n",
    "new_y_train = onehot.T*onehot_inverse.reshape(-1,1)"
   ]
  },
  {
   "cell_type": "code",
   "execution_count": null,
   "metadata": {},
   "outputs": [],
   "source": [
    "# Score the training set\n",
    "pred = model.predict(x_train, batch_size=24)"
   ]
  },
  {
   "cell_type": "code",
   "execution_count": null,
   "metadata": {},
   "outputs": [],
   "source": [
    "# Multiply centroid calculation matrix, new_y_train, by training set scores\n",
    "train_cent = np.matmul(new_y_train, pred)"
   ]
  },
  {
   "cell_type": "code",
   "execution_count": null,
   "metadata": {},
   "outputs": [],
   "source": [
    "# Calculate new data model score\n",
    "new_pred = model.predict(x_test)"
   ]
  },
  {
   "cell_type": "code",
   "execution_count": null,
   "metadata": {},
   "outputs": [],
   "source": [
    "# Identify the closest centroid\n",
    "rcenter = train_cent.T # create row matrix of centroids\n",
    "y_pred = np.argmin(abs(new_pred - rcenter), axis=1) + min_class"
   ]
  },
  {
   "cell_type": "code",
   "execution_count": null,
   "metadata": {},
   "outputs": [],
   "source": [
    "# calculate the mean absolute error and mean zero one error\n",
    "mae = np.mean(abs(y_pred - y_test))\n",
    "mze = np.mean(abs(y_pred - y_test) > 0)   \n",
    "print(mae, mze)"
   ]
  },
  {
   "cell_type": "code",
   "execution_count": null,
   "metadata": {},
   "outputs": [],
   "source": [
    "from sklearn.metrics import confusion_matrix \n",
    "from sklearn.metrics import classification_report\n",
    "print('Confusion Matrix')\n",
    "print(confusion_matrix(y_test, y_pred))\n",
    "print('Classification Report')\n",
    "target_names = ['0', '1', '2', '3', '4']\n",
    "print(classification_report(y_test, y_pred, target_names=target_names))"
   ]
  }
 ],
 "metadata": {
  "kernelspec": {
   "display_name": "Python 3",
   "language": "python",
   "name": "python3"
  },
  "language_info": {
   "codemirror_mode": {
    "name": "ipython",
    "version": 3
   },
   "file_extension": ".py",
   "mimetype": "text/x-python",
   "name": "python",
   "nbconvert_exporter": "python",
   "pygments_lexer": "ipython3",
   "version": "3.7.3"
  }
 },
 "nbformat": 4,
 "nbformat_minor": 2
}
